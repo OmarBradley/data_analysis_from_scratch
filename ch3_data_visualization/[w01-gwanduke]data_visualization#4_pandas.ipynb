{
 "cells": [
  {
   "cell_type": "code",
   "execution_count": 27,
   "metadata": {
    "collapsed": false
   },
   "outputs": [],
   "source": [
    "# Pandas 선그래프\n",
    "import pandas as pd\n",
    "import numpy as np\n",
    "import matplotlib.pyplot as plt\n",
    "\n",
    "s = pd.Series(np.random.randn(10).cumsum(), index=np.arange(0, 100, 10))\n",
    "s.plot()\n",
    "\n",
    "plt.show()"
   ]
  },
  {
   "cell_type": "code",
   "execution_count": 33,
   "metadata": {
    "collapsed": false
   },
   "outputs": [],
   "source": [
    "# Pandas 선그래프\n",
    "import pandas as pd\n",
    "import numpy as np\n",
    "import matplotlib.pyplot as plt\n",
    "\n",
    "df = pd.DataFrame(np.random.randn(10, 4).cumsum(0),\n",
    "                 columns=['A','B','C','D'],\n",
    "                 index=np.arange(0, 100, 10))\n",
    "\n",
    "\n",
    "#여기에 plot 메서드 인자를 넘겨서 그래프를 입맛대로 바꿀 수 있다.\n",
    "# 328p, 표8-3 참고\n",
    "df.plot(style='ko--', title='gwanduke') \n",
    "\n",
    "plt.show()"
   ]
  },
  {
   "cell_type": "code",
   "execution_count": 36,
   "metadata": {
    "collapsed": true
   },
   "outputs": [],
   "source": [
    "# 막대 그래프\n",
    "\n",
    "import pandas as pd\n",
    "import numpy as np\n",
    "import matplotlib.pyplot as plt\n",
    "\n",
    "fig, axes = plt.subplots(2, 1)\n",
    "df = pd.DataFrame(np.random.randn(10, 4).cumsum(0),\n",
    "                 columns=['A','B','C','D'],\n",
    "                 index=np.arange(0, 100, 10))\n",
    "\n",
    "\n",
    "#여기에 plot 메서드 인자를 넘겨서 그래프를 입맛대로 바꿀 수 있다.\n",
    "# 328p, 표8-3 참고\n",
    "df.plot(kind='bar', ax=axes[0], color='k', alpha=0.8)\n",
    "df.plot(kind='barh', ax=axes[1], color='b', alpha=0.8)\n",
    "\n",
    "\n",
    "plt.show()"
   ]
  },
  {
   "cell_type": "code",
   "execution_count": 38,
   "metadata": {
    "collapsed": false
   },
   "outputs": [
    {
     "data": {
      "text/html": [
       "<div>\n",
       "<table border=\"1\" class=\"dataframe\">\n",
       "  <thead>\n",
       "    <tr style=\"text-align: right;\">\n",
       "      <th></th>\n",
       "      <th>A</th>\n",
       "      <th>B</th>\n",
       "      <th>C</th>\n",
       "      <th>D</th>\n",
       "    </tr>\n",
       "  </thead>\n",
       "  <tbody>\n",
       "    <tr>\n",
       "      <th>0</th>\n",
       "      <td>-0.115049</td>\n",
       "      <td>-2.523406</td>\n",
       "      <td>-0.099055</td>\n",
       "      <td>-0.667976</td>\n",
       "    </tr>\n",
       "    <tr>\n",
       "      <th>10</th>\n",
       "      <td>-0.773814</td>\n",
       "      <td>-0.469741</td>\n",
       "      <td>-0.303428</td>\n",
       "      <td>0.396079</td>\n",
       "    </tr>\n",
       "    <tr>\n",
       "      <th>20</th>\n",
       "      <td>-1.151013</td>\n",
       "      <td>0.958822</td>\n",
       "      <td>0.634502</td>\n",
       "      <td>1.525765</td>\n",
       "    </tr>\n",
       "    <tr>\n",
       "      <th>30</th>\n",
       "      <td>-2.611775</td>\n",
       "      <td>2.198799</td>\n",
       "      <td>0.886825</td>\n",
       "      <td>1.787243</td>\n",
       "    </tr>\n",
       "    <tr>\n",
       "      <th>40</th>\n",
       "      <td>-2.203783</td>\n",
       "      <td>2.575954</td>\n",
       "      <td>2.648928</td>\n",
       "      <td>3.061798</td>\n",
       "    </tr>\n",
       "    <tr>\n",
       "      <th>50</th>\n",
       "      <td>-2.345823</td>\n",
       "      <td>4.106436</td>\n",
       "      <td>4.726823</td>\n",
       "      <td>2.318972</td>\n",
       "    </tr>\n",
       "    <tr>\n",
       "      <th>60</th>\n",
       "      <td>-1.105077</td>\n",
       "      <td>5.395253</td>\n",
       "      <td>4.849339</td>\n",
       "      <td>0.316074</td>\n",
       "    </tr>\n",
       "    <tr>\n",
       "      <th>70</th>\n",
       "      <td>-1.229868</td>\n",
       "      <td>6.220529</td>\n",
       "      <td>6.651324</td>\n",
       "      <td>0.592454</td>\n",
       "    </tr>\n",
       "    <tr>\n",
       "      <th>80</th>\n",
       "      <td>-0.800034</td>\n",
       "      <td>7.537664</td>\n",
       "      <td>8.081555</td>\n",
       "      <td>0.359656</td>\n",
       "    </tr>\n",
       "    <tr>\n",
       "      <th>90</th>\n",
       "      <td>-2.757942</td>\n",
       "      <td>7.530671</td>\n",
       "      <td>7.312524</td>\n",
       "      <td>-1.605032</td>\n",
       "    </tr>\n",
       "  </tbody>\n",
       "</table>\n",
       "</div>"
      ],
      "text/plain": [
       "           A         B         C         D\n",
       "0  -0.115049 -2.523406 -0.099055 -0.667976\n",
       "10 -0.773814 -0.469741 -0.303428  0.396079\n",
       "20 -1.151013  0.958822  0.634502  1.525765\n",
       "30 -2.611775  2.198799  0.886825  1.787243\n",
       "40 -2.203783  2.575954  2.648928  3.061798\n",
       "50 -2.345823  4.106436  4.726823  2.318972\n",
       "60 -1.105077  5.395253  4.849339  0.316074\n",
       "70 -1.229868  6.220529  6.651324  0.592454\n",
       "80 -0.800034  7.537664  8.081555  0.359656\n",
       "90 -2.757942  7.530671  7.312524 -1.605032"
      ]
     },
     "execution_count": 38,
     "metadata": {},
     "output_type": "execute_result"
    }
   ],
   "source": [
    "df"
   ]
  },
  {
   "cell_type": "code",
   "execution_count": null,
   "metadata": {
    "collapsed": true
   },
   "outputs": [],
   "source": [
    "df.plot(kind='barh', stacked=True, alpha=0.5)\n",
    "plt.show()"
   ]
  },
  {
   "cell_type": "code",
   "execution_count": null,
   "metadata": {
    "collapsed": true
   },
   "outputs": [],
   "source": [
    "# ~333p 에서 일단 마무리."
   ]
  }
 ],
 "metadata": {
  "anaconda-cloud": {},
  "kernelspec": {
   "display_name": "Python [Root]",
   "language": "python",
   "name": "Python [Root]"
  },
  "language_info": {
   "codemirror_mode": {
    "name": "ipython",
    "version": 2
   },
   "file_extension": ".py",
   "mimetype": "text/x-python",
   "name": "python",
   "nbconvert_exporter": "python",
   "pygments_lexer": "ipython2",
   "version": "2.7.12"
  }
 },
 "nbformat": 4,
 "nbformat_minor": 0
}
