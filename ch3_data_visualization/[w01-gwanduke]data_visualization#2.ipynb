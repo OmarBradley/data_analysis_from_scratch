{
 "cells": [
  {
   "cell_type": "code",
   "execution_count": 1,
   "metadata": {
    "collapsed": false
   },
   "outputs": [
    {
     "name": "stdout",
     "output_type": "stream",
     "text": [
      "[[<matplotlib.axes._subplots.AxesSubplot object at 0x10b0b9650>\n",
      "  <matplotlib.axes._subplots.AxesSubplot object at 0x10b1c5590>\n",
      "  <matplotlib.axes._subplots.AxesSubplot object at 0x10b0e4dd0>]\n",
      " [<matplotlib.axes._subplots.AxesSubplot object at 0x10dfaf550>\n",
      "  <matplotlib.axes._subplots.AxesSubplot object at 0x1112183d0>\n",
      "  <matplotlib.axes._subplots.AxesSubplot object at 0x11127ad10>]]\n"
     ]
    }
   ],
   "source": [
    "import matplotlib.pyplot as plt\n",
    "\n",
    "fig, axes = plt.subplots(2, 3)\n",
    "\n",
    "print axes\n",
    "# 0,0의 subplot을 원한다면 axes[0, 0] 호출\n",
    "plt.show()"
   ]
  },
  {
   "cell_type": "code",
   "execution_count": null,
   "metadata": {
    "collapsed": false
   },
   "outputs": [],
   "source": [
    "import matplotlib.pyplot as plt\n",
    "from numpy.random import randn\n",
    "import numpy as np\n",
    "\n",
    "fig = plt.figure()\n",
    "ax1 = fig.add_subplot(2, 2, 1) # AxesSubplot 객체 반환\n",
    "ax2 = fig.add_subplot(2, 2, 2)\n",
    "ax3 = fig.add_subplot(2, 2, 3)\n",
    "\n",
    "plt.plot(randn(50).cumsum(), 'k--') # 검은 점선\n",
    "\n",
    "_ = ax1.hist(randn(100), bins=20, color='k', alpha=0.3)\n",
    "ax2.scatter(np.arange(30), np.arange(30) + 3*randn(30))\n",
    "plt.show()\n"
   ]
  },
  {
   "cell_type": "code",
   "execution_count": null,
   "metadata": {
    "collapsed": false
   },
   "outputs": [],
   "source": [
    "# 315p. 서브플롯 간격 지정하기\n",
    "import matplotlib.pyplot as plt\n",
    "from numpy.random import randn\n",
    "\n",
    "fig, axes = plt.subplots(2, 2, sharex=True, sharey=True)\n",
    "for i in range(2):\n",
    "    for j in range(2):\n",
    "        axes[i, j].hist(randn(500), bins=50, color='k', alpha=0.5)\n",
    "plt.subplots_adjust(left=0, bottom=0, right=None, top=None, wspace=0, hspace=0)\n",
    "plt.show()"
   ]
  },
  {
   "cell_type": "code",
   "execution_count": null,
   "metadata": {
    "collapsed": true
   },
   "outputs": [],
   "source": [
    "# 색상, 마커, 선 스타일.... 일정한 간격으로 연속된 지점 연결하기\n",
    "import matplotlib.pyplot as plt\n",
    "from numpy.random import randn\n",
    "\n",
    "data = randn(30).cumsum()\n",
    "\n",
    "plt.plot(data, 'k--', label='Default')\n",
    "plt.plot(data, 'k-', drawstyle='steps-post', label='steps-post')\n",
    "\n",
    "plt.legend(loc='best')\n",
    "\n",
    "plt.show()"
   ]
  },
  {
   "cell_type": "code",
   "execution_count": null,
   "metadata": {
    "collapsed": false
   },
   "outputs": [],
   "source": [
    "import matplotlib.pyplot as plt\n",
    "from numpy.random import randn\n",
    "\n",
    "# 8.1.3 눈금, 라벨, 범례\n",
    "fig = plt.figure(); \n",
    "ax = fig.add_subplot(1, 1, 1)\n",
    "\n",
    "# 그래프 그리기, 옵션으로 라벨\n",
    "ax.plot(randn(1000).cumsum(), 'k', label='one')\n",
    "ax.plot(randn(1000).cumsum(), 'r--', label='two')\n",
    "ax.plot(randn(1000).cumsum(), 'b.', label='three')\n",
    "\n",
    "#눈금을 어디에 배치할지?\n",
    "ticks = ax.set_xticks([0, 250, 500, 750, 2000])\n",
    "labels = ax.set_xticklabels(['one', 'two', 'three', 'four', 'five'], rotation=30, fontsize='small')\n",
    "\n",
    "# 타이틀, x축 라벨\n",
    "ax.set_title('My first matplotlib plot')\n",
    "ax.set_xlabel('Stages')\n",
    "\n",
    "# 범례 (둘중 하나 이용하면 됨)\n",
    "# ax.legend() #1\n",
    "plt.legend() #2\n",
    "\n",
    "\n",
    "plt.show()"
   ]
  }
 ],
 "metadata": {
  "anaconda-cloud": {},
  "kernelspec": {
   "display_name": "Python [Root]",
   "language": "python",
   "name": "Python [Root]"
  },
  "language_info": {
   "codemirror_mode": {
    "name": "ipython",
    "version": 2
   },
   "file_extension": ".py",
   "mimetype": "text/x-python",
   "name": "python",
   "nbconvert_exporter": "python",
   "pygments_lexer": "ipython2",
   "version": "2.7.12"
  }
 },
 "nbformat": 4,
 "nbformat_minor": 0
}
