{
 "cells": [
  {
   "cell_type": "code",
   "execution_count": 2,
   "metadata": {
    "collapsed": false
   },
   "outputs": [
    {
     "name": "stdout",
     "output_type": "stream",
     "text": [
      "unnamed args: (1, 2)\n",
      "keyword args: {'key2': 'word2', 'key': 'word'}\n"
     ]
    }
   ],
   "source": [
    "#ARGS AND KWARGS\n",
    "def args_and_kwargs(*args, **kwargs):\n",
    "    print \"unnamed args:\", args\n",
    "    print \"keyword args:\", kwargs\n",
    "    \n",
    "args_and_kwargs(1,2,key = \"word\",key2 = \"word2\")"
   ]
  },
  {
   "cell_type": "code",
   "execution_count": 9,
   "metadata": {
    "collapsed": false
   },
   "outputs": [
    {
     "name": "stdout",
     "output_type": "stream",
     "text": [
      "[2, 4, 6, 8]\n",
      "[2, 4, 6, 8]\n",
      "[3, 8]\n",
      "[3, 8]\n"
     ]
    }
   ],
   "source": [
    "list = [1,2,3,4]\n",
    "def double(x):\n",
    "    return 2*x\n",
    "\n",
    "double_list = [double(x) for x in list]\n",
    "print double_list\n",
    "\n",
    "double_list2 = map(double, list)\n",
    "print double_list2\n",
    "\n",
    "def multiply(x,y): \n",
    "    return x*y\n",
    "\n",
    "multiply_list = map(multiply, [1,2], [3,4])\n",
    "print multiply_list\n",
    "\n",
    "list1 = [1,2]\n",
    "list2 = [3,4]\n",
    "\n",
    "multiply_list2 = map(multiply, list1, list2)\n",
    "print multiply_list2"
   ]
  },
  {
   "cell_type": "code",
   "execution_count": 13,
   "metadata": {
    "collapsed": false
   },
   "outputs": [
    {
     "name": "stdout",
     "output_type": "stream",
     "text": [
      "[2, 4, 6]\n"
     ]
    }
   ],
   "source": [
    "def is_even(x):\n",
    "    return x%2 == 0\n",
    "\n",
    "list = [1,2,3,4,5,6]\n",
    "\n",
    "even_list = filter(is_even, list)\n",
    "print even_list"
   ]
  },
  {
   "cell_type": "code",
   "execution_count": null,
   "metadata": {
    "collapsed": true
   },
   "outputs": [],
   "source": []
  }
 ],
 "metadata": {
  "anaconda-cloud": {},
  "kernelspec": {
   "display_name": "Python [Root]",
   "language": "python",
   "name": "Python [Root]"
  },
  "language_info": {
   "codemirror_mode": {
    "name": "ipython",
    "version": 2
   },
   "file_extension": ".py",
   "mimetype": "text/x-python",
   "name": "python",
   "nbconvert_exporter": "python",
   "pygments_lexer": "ipython2",
   "version": "2.7.12"
  }
 },
 "nbformat": 4,
 "nbformat_minor": 0
}
