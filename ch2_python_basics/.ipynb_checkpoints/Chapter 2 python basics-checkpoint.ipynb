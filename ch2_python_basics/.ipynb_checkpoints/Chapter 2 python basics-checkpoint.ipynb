{
 "cells": [
  {
   "cell_type": "code",
   "execution_count": 3,
   "metadata": {
    "collapsed": false
   },
   "outputs": [
    {
     "name": "stdout",
     "output_type": "stream",
     "text": [
      "8\n",
      "9\n",
      "[2, 4, 6, 8]\n",
      "[2, 4, 6, 8]\n",
      "[3, 8]\n",
      "[3, 8]\n"
     ]
    }
   ],
   "source": [
    "#FUNCTIONAL TOOLS: \n",
    "#to partially apply functions to create new functions\n",
    "\n",
    "from functools import partial\n",
    "\n",
    "def exp(base, power):\n",
    "    return base**power\n",
    "\n",
    "base_2 = partial(exp, 2)\n",
    "print base_2(3)\n",
    "\n",
    "#Can specify the argument\n",
    "square = partial(exp, power = 2)\n",
    "print square(3)"
   ]
  },
  {
   "cell_type": "code",
   "execution_count": 5,
   "metadata": {
    "collapsed": false
   },
   "outputs": [
    {
     "name": "stdout",
     "output_type": "stream",
     "text": [
      "[2, 4, 6, 8]\n",
      "[3, 8]\n"
     ]
    }
   ],
   "source": [
    "#Map:\n",
    "\n",
    "list = [1,2,3,4]\n",
    "def double(x):\n",
    "    return 2*x\n",
    "\n",
    "double_list = map(double, list)\n",
    "print double_list\n",
    "\n",
    "#Can use with multiple lists\n",
    "\n",
    "list1 = [1,2]\n",
    "list2 = [3,4]\n",
    "\n",
    "def multiply(x,y): \n",
    "    return x*y\n",
    "\n",
    "\n",
    "multiply_list = map(multiply, list1, list2)\n",
    "print multiply_list"
   ]
  },
  {
   "cell_type": "code",
   "execution_count": 6,
   "metadata": {
    "collapsed": false
   },
   "outputs": [
    {
     "name": "stdout",
     "output_type": "stream",
     "text": [
      "[2, 4, 6]\n"
     ]
    }
   ],
   "source": [
    "#Filter:\n",
    "\n",
    "list = [1,2,3,4,5,6]\n",
    "def is_even(x):\n",
    "    return (x%2 == 0)\n",
    "\n",
    "even_list = filter(is_even, list)\n",
    "print even_list"
   ]
  },
  {
   "cell_type": "code",
   "execution_count": 2,
   "metadata": {
    "collapsed": false
   },
   "outputs": [
    {
     "name": "stdout",
     "output_type": "stream",
     "text": [
      "unnamed args: (1, 2)\n",
      "keyword args: {'key2': 'word2', 'key': 'word'}\n"
     ]
    }
   ],
   "source": [
    "#ARGS AND KWARGS\n",
    "#Args: unnnamed arguments\n",
    "    #Returns tuple of arguments\n",
    "#Kwargs: keyword arguments\n",
    "    #Returns dictionary of arguments\n",
    "def args_and_kwargs(*args, **kwargs):\n",
    "    print \"unnamed args:\", args\n",
    "    print \"keyword args:\", kwargs\n",
    "    \n",
    "args_and_kwargs(1,2,key = \"word\",key2 = \"word2\")"
   ]
  },
  {
   "cell_type": "code",
   "execution_count": null,
   "metadata": {
    "collapsed": true
   },
   "outputs": [],
   "source": []
  }
 ],
 "metadata": {
  "anaconda-cloud": {},
  "kernelspec": {
   "display_name": "Python [Root]",
   "language": "python",
   "name": "Python [Root]"
  },
  "language_info": {
   "codemirror_mode": {
    "name": "ipython",
    "version": 2
   },
   "file_extension": ".py",
   "mimetype": "text/x-python",
   "name": "python",
   "nbconvert_exporter": "python",
   "pygments_lexer": "ipython2",
   "version": "2.7.12"
  }
 },
 "nbformat": 4,
 "nbformat_minor": 0
}
