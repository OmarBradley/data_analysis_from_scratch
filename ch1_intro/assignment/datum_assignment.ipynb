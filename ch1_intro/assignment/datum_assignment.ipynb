{
 "cells": [
  {
   "cell_type": "code",
   "execution_count": 1,
   "metadata": {
    "collapsed": true
   },
   "outputs": [],
   "source": [
    "from collections import Counter\n",
    "from collections import defaultdict\n",
    "\n",
    "# 유저 정의\n",
    "users = [\n",
    "    { \"id\": 0, \"name\": \"Hero\" },\n",
    "    { \"id\": 1, \"name\": \"Dunn\" },\n",
    "    { \"id\": 2, \"name\": \"Sue\" },\n",
    "    { \"id\": 3, \"name\": \"Chi\" },\n",
    "    { \"id\": 4, \"name\": \"Thor\" },\n",
    "    { \"id\": 5, \"name\": \"Clive\" },\n",
    "    { \"id\": 6, \"name\": \"Hicks\" },\n",
    "    { \"id\": 7, \"name\": \"Devin\" },\n",
    "    { \"id\": 8, \"name\": \"Kate\" },\n",
    "    { \"id\": 9, \"name\": \"Klein\" }\n",
    "]\n",
    "\n",
    "# 관심분야 정의\n",
    "interests = [\n",
    "    (0, \"Hadoop\"), (0, \"Big Data\"), (0, \"HBase\"), (0, \"Java\"),\n",
    "    (0, \"Spark\"), (0, \"Storm\"), (0, \"Cassandra\"),\n",
    "    (1, \"NoSQL\"), (1, \"MongoDB\"), (1, \"Cassandra\"), (1, \"HBase\"),\n",
    "    (1, \"Postgres\"), (2, \"Python\"), (2, \"scikit-learn\"), (2, \"scipy\"),\n",
    "    (2, \"numpy\"), (2, \"statsmodels\"), (2, \"pandas\"), (3, \"R\"), (3, \"Python\"),\n",
    "    (3, \"statistics\"), (3, \"regression\"), (3, \"probability\"),\n",
    "    (4, \"machine learning\"), (4, \"regression\"), (4, \"decision trees\"),\n",
    "    (4, \"libsvm\"), (5, \"Python\"), (5, \"R\"), (5, \"Java\"), (5, \"C++\"),\n",
    "    (5, \"Haskell\"), (5, \"programming languages\"), (6, \"statistics\"),\n",
    "    (6, \"probability\"), (6, \"mathematics\"), (6, \"theory\"),\n",
    "    (7, \"machine learning\"), (7, \"scikit-learn\"), (7, \"Mahout\"),\n",
    "    (7, \"neural networks\"), (8, \"neural networks\"), (8, \"deep learning\"),\n",
    "    (8, \"Big Data\"), (8, \"artificial intelligence\"), (9, \"Hadoop\"),\n",
    "    (9, \"Java\"), (9, \"MapReduce\"), (9, \"Big Data\")\n",
    "]\n",
    "\n",
    "# 연봉과 근속연수\n",
    "\n",
    "salaries_and_tenures = [(83000, 8.7), (88000, 8.1),\n",
    "                        (48000, 0.7), (76000, 6),\n",
    "                        (69000, 6.5), (76000, 7.5),\n",
    "                        (60000, 2.5), (83000, 10),\n",
    "                        (48000, 1.9), (63000, 4.2)]\n",
    "\n",
    "# 유저의 친구 관계\n",
    "friendships = [(0, 1), (0, 2), (1, 2), (1, 3), (2, 3), (3, 4),\n",
    "               (4, 5), (5, 6), (5, 7), (6, 8), (7, 8), (8, 9)]\n",
    "\n",
    "# 유저들의 friends 속성을 빈 배열로 초기화\n",
    "for user in users:\n",
    "    user[\"friends\"] = []"
   ]
  },
  {
   "cell_type": "code",
   "execution_count": 2,
   "metadata": {
    "collapsed": true
   },
   "outputs": [],
   "source": [
    "# friendships 를 바탕으로 친구 관계 설정\n",
    "for i,j in friendships:\n",
    "    users[i][\"friends\"].append(users[j])\n",
    "    users[j][\"friends\"].append(users[i])"
   ]
  },
  {
   "cell_type": "code",
   "execution_count": 3,
   "metadata": {
    "collapsed": true
   },
   "outputs": [],
   "source": [
    "# 유저의 친구가 몇명인지 \n",
    "# def number_of_friends(user):\n",
    "\n",
    "# 전체 총 연결 수 \n",
    "# total_connections"
   ]
  },
  {
   "cell_type": "code",
   "execution_count": 7,
   "metadata": {
    "collapsed": false
   },
   "outputs": [],
   "source": [
    "# (user_id, number_of_friends) 로 구성된 list 생성 \n",
    "# num_friends_by_id\n",
    "\n",
    "# 내림차순으로 정렬"
   ]
  },
  {
   "cell_type": "code",
   "execution_count": 5,
   "metadata": {
    "collapsed": true
   },
   "outputs": [],
   "source": [
    "# 친구의 친구 id 를 보여주기 \n",
    "# def friends_of_friend_ids_bad(user):"
   ]
  },
  {
   "cell_type": "code",
   "execution_count": 8,
   "metadata": {
    "collapsed": true
   },
   "outputs": [],
   "source": [
    "# Mutual Friends 숫자를 구해보자\n",
    "\n",
    "# 만약 두 사용자의 id가 다르면 다른 사용자로 인식 \n",
    "# def not_the_same(user, other_user):\n",
    "\n",
    "# 만약 other_user가 user[\"friends\"]에 포함되지 않으면 친구가 아닌 것으로 간주함.\n",
    "# 즉, other_user를 not_the_same 함수를 사용해서 user[\"friends\"]에 포함된 사람과 다르다고 인식\n",
    "# def not_friends(user, other_user):\n",
    "\n",
    "# 사용자 친구 개개인에 대해 그들의 친구들을 세어보고 그중에서 자신과 사용자의 친구가 아닌 사람은 제외\n",
    "# def friends_of_friend_ids(user):"
   ]
  },
  {
   "cell_type": "code",
   "execution_count": 9,
   "metadata": {
    "collapsed": true
   },
   "outputs": [],
   "source": [
    "# 특정 관심분야를 좋아하는 사람들의 ID 리스트\n",
    "# def data_scientists_who_like(target_interest):"
   ]
  },
  {
   "cell_type": "code",
   "execution_count": 10,
   "metadata": {
    "collapsed": true
   },
   "outputs": [],
   "source": [
    "# 인덱스를 만들어주자\n",
    "# 관심사에 대한 사용자 인덱스\n",
    "# => key가 관심사, value가 사용자 id\n",
    "# user_ids_by_interest = defaultdict(list)\n",
    "\n",
    "# 사용자에 대한 관심사 인덱스\n",
    "# => key가 사용자 id, value가 관심사\n",
    "# interests_by_user_id = defaultdict(list)\n"
   ]
  },
  {
   "cell_type": "code",
   "execution_count": null,
   "metadata": {
    "collapsed": true
   },
   "outputs": [],
   "source": [
    "# 해당 사용자의 관심사들을 훑는다.\n",
    "# 각 관심사를 가진 다른 사용자들이 누구인지 찾아본다.\n",
    "# 다른 사용자들이 몇 번이나 등장하는지 샌다.\n",
    "# def most_common_interests_with(user):"
   ]
  },
  {
   "cell_type": "code",
   "execution_count": 11,
   "metadata": {
    "collapsed": true
   },
   "outputs": [],
   "source": [
    "# 근속 연수 구간에 따라 평균 연봉이 어떻게 달라지는가?\n",
    "# 경력 구간을 나눠서 구해야 된다.\n",
    "def tenure_bucket(tenure):\n",
    "    if tenure < 2:\n",
    "        return \"less than two\"\n",
    "    elif tenure < 5:\n",
    "        return \"between two and five\"\n",
    "    else:\n",
    "        return \"more than five\"\n",
    "    \n",
    "# 각 연봉 구간에 대응\n",
    "# key는 근속 연수 구간, value는 해당 구간에 속하는 사용자들의 연봉\n",
    "# salary_by_tenure_bucket = defaultdict(list)\n",
    "\n",
    "# 근속 연수 구간에 대한 평균 연봉\n",
    "# key는 근속 연수, value는 해당 근속 연수의 평균 연봉\n",
    "# average_salary_by_tenure"
   ]
  },
  {
   "cell_type": "code",
   "execution_count": null,
   "metadata": {
    "collapsed": true
   },
   "outputs": [],
   "source": [
    "# 관심 주제\n",
    "# 1. 모든 관심사를 소문자로 변환한다.\n",
    "# 2. 모든 관심사를 단어 기준으로 쪼갠다.\n",
    "# 3. 각 단어의 수를 센다.\n",
    "\n",
    "# words_and_counts\n",
    "\n",
    "# 한번 이상 등장하는 단어들 출력\n",
    "# print"
   ]
  }
 ],
 "metadata": {
  "kernelspec": {
   "display_name": "Python 2",
   "language": "python",
   "name": "python2"
  },
  "language_info": {
   "codemirror_mode": {
    "name": "ipython",
    "version": 2
   },
   "file_extension": ".py",
   "mimetype": "text/x-python",
   "name": "python",
   "nbconvert_exporter": "python",
   "pygments_lexer": "ipython2",
   "version": "2.7.11"
  }
 },
 "nbformat": 4,
 "nbformat_minor": 0
}
