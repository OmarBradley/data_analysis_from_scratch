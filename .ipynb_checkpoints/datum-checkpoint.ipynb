{
 "cells": [
  {
   "cell_type": "code",
   "execution_count": 14,
   "metadata": {
    "collapsed": false
   },
   "outputs": [],
   "source": [
    "from collections import Counter\n",
    "from collections import defaultdict\n",
    "\n",
    "# 유저 정의\n",
    "users = [\n",
    "    { \"id\": 0, \"name\": \"Hero\" },\n",
    "    { \"id\": 1, \"name\": \"Dunn\" },\n",
    "    { \"id\": 2, \"name\": \"Sue\" },\n",
    "    { \"id\": 3, \"name\": \"Chi\" },\n",
    "    { \"id\": 4, \"name\": \"Thor\" },\n",
    "    { \"id\": 5, \"name\": \"Clive\" },\n",
    "    { \"id\": 6, \"name\": \"Hicks\" },\n",
    "    { \"id\": 7, \"name\": \"Devin\" },\n",
    "    { \"id\": 8, \"name\": \"Kate\" },\n",
    "    { \"id\": 9, \"name\": \"Klein\" }\n",
    "]\n",
    "\n",
    "# 유저의 친구 관계\n",
    "friendships = [(0, 1), (0, 2), (1, 2), (1, 3), (2, 3), (3, 4),\n",
    "               (4, 5), (5, 6), (5, 7), (6, 8), (7, 8), (8, 9)]\n",
    "\n",
    "# 유저들의 friends 속성을 빈 배열로 초기화\n",
    "for user in users:\n",
    "    user[\"friends\"] = []"
   ]
  },
  {
   "cell_type": "code",
   "execution_count": 5,
   "metadata": {
    "collapsed": false
   },
   "outputs": [],
   "source": [
    "# friendships 를 바탕으로 친구 관계 설정\n",
    "for i,j in friendships:\n",
    "    users[i][\"friends\"].append(users[j])\n",
    "    users[j][\"friends\"].append(users[i])"
   ]
  },
  {
   "cell_type": "code",
   "execution_count": 6,
   "metadata": {
    "collapsed": true
   },
   "outputs": [],
   "source": [
    "# 유저의 친구가 몇명인지\n",
    "def number_of_friends(user):\n",
    "    return len(user[\"friends\"])\n",
    "\n",
    "# 전체 총 연결 수\n",
    "total_connections = sum(number_of_friends(user) for user in users)"
   ]
  },
  {
   "cell_type": "code",
   "execution_count": 7,
   "metadata": {
    "collapsed": false
   },
   "outputs": [
    {
     "data": {
      "text/plain": [
       "[(1, 3),\n",
       " (2, 3),\n",
       " (3, 3),\n",
       " (5, 3),\n",
       " (8, 3),\n",
       " (0, 2),\n",
       " (4, 2),\n",
       " (6, 2),\n",
       " (7, 2),\n",
       " (9, 1)]"
      ]
     },
     "execution_count": 7,
     "metadata": {},
     "output_type": "execute_result"
    }
   ],
   "source": [
    "# (user_id, number_of_friends) 로 구성된 list 생성\n",
    "num_friends_by_id = [(user[\"id\"], number_of_friends(user)) for user in users]\n",
    "\n",
    "# 내림차순으로 정렬\n",
    "sorted(num_friends_by_id, key=lambda(user_id, num_friends): num_friends, reverse=True)"
   ]
  },
  {
   "cell_type": "code",
   "execution_count": 8,
   "metadata": {
    "collapsed": false
   },
   "outputs": [
    {
     "name": "stdout",
     "output_type": "stream",
     "text": [
      "[0, 2, 3, 0, 1, 3]\n",
      "[1, 2]\n",
      "[0, 2, 3]\n",
      "[0, 1, 3]\n"
     ]
    }
   ],
   "source": [
    "# 친구의 친구 id 를 보여주기\n",
    "def friends_of_friend_ids_bad(user):\n",
    "    return [foaf[\"id\"] \n",
    "            for friend in user[\"friends\"]\n",
    "            for foaf in friend[\"friends\"]]\n",
    "\n",
    "print friends_of_friend_ids_bad(users[0])\n",
    "\n",
    "print [friend[\"id\"] for friend in users[0][\"friends\"]]\n",
    "print [friend[\"id\"] for friend in users[1][\"friends\"]]\n",
    "print [friend[\"id\"] for friend in users[2][\"friends\"]]"
   ]
  },
  {
   "cell_type": "code",
   "execution_count": 9,
   "metadata": {
    "collapsed": false
   },
   "outputs": [
    {
     "name": "stdout",
     "output_type": "stream",
     "text": [
      "Counter({0: 2, 5: 1})\n"
     ]
    }
   ],
   "source": [
    "# Mutual Friends 숫자를 구해보자\n",
    "\n",
    "# 만약 두 사용자의 id가 다르면 다른 사용자로 인식\n",
    "def not_the_same(user, other_user):\n",
    "    return user[\"id\"] != other_user[\"id\"]\n",
    "\n",
    "# 만약 other_user가 user[\"friends\"]에 포함되지 않으면 친구가 아닌 것으로 간주함.\n",
    "# 즉, other_user를 not_the_same 함수를 사용해서 user[\"friends\"]에 포함된 사람과 다르다고 인식\n",
    "def not_friends(user, other_user):\n",
    "    return all(not_the_same(friend, other_user)\n",
    "               for friend in user[\"friends\"])\n",
    "\n",
    "# 사용자 친구 개개인에 대해 그들의 친구들을 세어보고 그중에서 자신과 사용자의 친구가 아닌 사람은 제외\n",
    "def friends_of_friend_ids(user):\n",
    "    return Counter(foaf[\"id\"]\n",
    "                   for friend in user[\"friends\"]\n",
    "                   for foaf in friend[\"friends\"]\n",
    "                   if not_the_same(user, foaf)\n",
    "                   and not_friends(user, foaf))\n",
    "\n",
    "print friends_of_friend_ids(users[3])"
   ]
  },
  {
   "cell_type": "code",
   "execution_count": 10,
   "metadata": {
    "collapsed": true
   },
   "outputs": [],
   "source": [
    "interests = [\n",
    "    (0, \"Hadoop\"), (0, \"Big Data\"), (0, \"HBase\"), (0, \"Java\"),\n",
    "    (0, \"Spark\"), (0, \"Storm\"), (0, \"Cassandra\"),\n",
    "    (1, \"NoSQL\"), (1, \"MongoDB\"), (1, \"Cassandra\"), (1, \"HBase\"),\n",
    "    (1, \"Postgres\"), (2, \"Python\"), (2, \"scikit-learn\"), (2, \"scipy\"),\n",
    "    (2, \"numpy\"), (2, \"statsmodels\"), (2, \"pandas\"), (3, \"R\"), (3, \"Python\"),\n",
    "    (3, \"statistics\"), (3, \"regression\"), (3, \"probability\"),\n",
    "    (4, \"machine learning\"), (4, \"regression\"), (4, \"decision trees\"),\n",
    "    (4, \"libsvm\"), (5, \"Python\"), (5, \"R\"), (5, \"Java\"), (5, \"C++\"),\n",
    "    (5, \"Haskell\"), (5, \"programming languages\"), (6, \"statistics\"),\n",
    "    (6, \"probability\"), (6, \"mathematics\"), (6, \"theory\"),\n",
    "    (7, \"machine learning\"), (7, \"scikit-learn\"), (7, \"Mahout\"),\n",
    "    (7, \"neural networks\"), (8, \"neural networks\"), (8, \"deep learning\"),\n",
    "    (8, \"Big Data\"), (8, \"artificial intelligence\"), (9, \"Hadoop\"),\n",
    "    (9, \"Java\"), (9, \"MapReduce\"), (9, \"Big Data\")\n",
    "]"
   ]
  },
  {
   "cell_type": "code",
   "execution_count": 13,
   "metadata": {
    "collapsed": false
   },
   "outputs": [
    {
     "name": "stdout",
     "output_type": "stream",
     "text": [
      "[0, 8, 9]\n",
      "[0, 1]\n"
     ]
    }
   ],
   "source": [
    "def data_scientists_who_like(target_interest):\n",
    "    return [user_id\n",
    "            for user_id, user_interest in interests\n",
    "            if user_interest == target_interest]\n",
    "\n",
    "print data_scientists_who_like(\"Big Data\")\n",
    "print data_scientists_who_like(\"HBase\")"
   ]
  },
  {
   "cell_type": "code",
   "execution_count": 19,
   "metadata": {
    "collapsed": false
   },
   "outputs": [
    {
     "name": "stdout",
     "output_type": "stream",
     "text": [
      "defaultdict(<type 'list'>, {'Java': [0, 5, 9], 'neural networks': [7, 8], 'NoSQL': [1], 'Hadoop': [0, 9], 'Mahout': [7], 'Storm': [0], 'regression': [3, 4], 'statistics': [3, 6], 'probability': [3, 6], 'programming languages': [5], 'Python': [2, 3, 5], 'deep learning': [8], 'Haskell': [5], 'mathematics': [6], 'Spark': [0], 'numpy': [2], 'pandas': [2], 'artificial intelligence': [8], 'theory': [6], 'libsvm': [4], 'C++': [5], 'R': [3, 5], 'HBase': [0, 1], 'Postgres': [1], 'decision trees': [4], 'Big Data': [0, 8, 9], 'MongoDB': [1], 'scikit-learn': [2, 7], 'MapReduce': [9], 'machine learning': [4, 7], 'scipy': [2], 'statsmodels': [2], 'Cassandra': [0, 1]})\n",
      "defaultdict(<type 'list'>, {0: ['Hadoop', 'Big Data', 'HBase', 'Java', 'Spark', 'Storm', 'Cassandra'], 1: ['NoSQL', 'MongoDB', 'Cassandra', 'HBase', 'Postgres'], 2: ['Python', 'scikit-learn', 'scipy', 'numpy', 'statsmodels', 'pandas'], 3: ['R', 'Python', 'statistics', 'regression', 'probability'], 4: ['machine learning', 'regression', 'decision trees', 'libsvm'], 5: ['Python', 'R', 'Java', 'C++', 'Haskell', 'programming languages'], 6: ['statistics', 'probability', 'mathematics', 'theory'], 7: ['machine learning', 'scikit-learn', 'Mahout', 'neural networks'], 8: ['neural networks', 'deep learning', 'Big Data', 'artificial intelligence'], 9: ['Hadoop', 'Java', 'MapReduce', 'Big Data']})\n"
     ]
    }
   ],
   "source": [
    "# 인덱스를 만들어주자\n",
    "# 관심사에 대한 사용자 인덱스\n",
    "# => key가 관심사, value가 사용자 id\n",
    "user_ids_by_interest = defaultdict(list)\n",
    "\n",
    "for user_id, interest in interests:\n",
    "    user_ids_by_interest[interest].append(user_id)\n",
    "    \n",
    "# 사용자에 대한 관심사 인덱스\n",
    "# => key가 사용자 id, value가 관심사\n",
    "interests_by_user_id = defaultdict(list)\n",
    "for user_id, interest in interests:\n",
    "    interests_by_user_id[user_id].append(interest)\n",
    "    \n",
    "print user_ids_by_interest\n",
    "print interests_by_user_id"
   ]
  },
  {
   "cell_type": "code",
   "execution_count": 22,
   "metadata": {
    "collapsed": false
   },
   "outputs": [
    {
     "name": "stdout",
     "output_type": "stream",
     "text": [
      "Counter({9: 3, 1: 2, 8: 1, 5: 1})\n"
     ]
    }
   ],
   "source": [
    "# 해당 사용자의 관심사들을 훑는다.\n",
    "# 각 관심사를 가진 다른 사용자들이 누구인지 찾아본다.\n",
    "# 다른 사용자들이 몇 번이나 등장하는지 샌다.\n",
    "def most_common_interests_with(user):\n",
    "    return Counter(interested_user_id\n",
    "                  for interest in interests_by_user_id[user[\"id\"]]\n",
    "                  for interested_user_id in user_ids_by_interest[interest]\n",
    "                  if interested_user_id != user[\"id\"])\n",
    "\n",
    "print most_common_interests_with(users[0])\n"
   ]
  },
  {
   "cell_type": "code",
   "execution_count": 23,
   "metadata": {
    "collapsed": true
   },
   "outputs": [],
   "source": [
    "###########################\n",
    "#                         #\n",
    "# SALARIES AND EXPERIENCE #\n",
    "#                         #\n",
    "###########################\n",
    "\n",
    "salaries_and_tenures = [(83000, 8.7), (88000, 8.1),\n",
    "                        (48000, 0.7), (76000, 6),\n",
    "                        (69000, 6.5), (76000, 7.5),\n",
    "                        (60000, 2.5), (83000, 10),\n",
    "                        (48000, 1.9), (63000, 4.2)]"
   ]
  },
  {
   "cell_type": "code",
   "execution_count": 33,
   "metadata": {
    "collapsed": false
   },
   "outputs": [
    {
     "name": "stdout",
     "output_type": "stream",
     "text": [
      "{'more than five': 79166, 'between two and five': 61500, 'less than two': 48000}\n"
     ]
    }
   ],
   "source": [
    "# 근속 연수에 따라 평균 연봉이 어떻게 달라지는가?\n",
    "# key는 근속 연수, value는 해당 근속 연수에 대한 연봉 목록\n",
    "salary_by_tenure = defaultdict(list)\n",
    "\n",
    "for salary, tenure in salaries_and_tenures:\n",
    "    salary_by_tenure[tenure].append(salary)\n",
    "    \n",
    "# 근속 연수에 대한 평균 연봉\n",
    "# key는 근속 연수, value는 해당 근속 연수의 평균 연봉\n",
    "average_salary_by_tenure = {\n",
    "    tenure : sum(salaries) / len(salaries)\n",
    "    for tenure, salaries in salary_by_tenure.items()\n",
    "}\n",
    "\n",
    "# 경력 구간을 나눠서 구해야 된다.\n",
    "def tenure_bucket(tenure):\n",
    "    if tenure < 2:\n",
    "        return \"less than two\"\n",
    "    elif tenure < 5:\n",
    "        return \"between two and five\"\n",
    "    else:\n",
    "        return \"more than five\"\n",
    "    \n",
    "# 각 연봉 구간에 대응\n",
    "# key는 근속 연수 구간, value는 해당 구간에 속하는 사용자들의 연봉\n",
    "salary_by_tenure_bucket = defaultdict(list)\n",
    "for salary, tenure in salaries_and_tenures:\n",
    "    bucket = tenure_bucket(tenure)\n",
    "    salary_by_tenure_bucket[bucket].append(salary)\n",
    "    \n",
    "# 근속 연수 구간에 대한 평균 연봉\n",
    "# key는 근속 연수, value는 해당 근속 연수의 평균 연봉\n",
    "average_salary_by_tenure = {\n",
    "    tenure_bucket : sum(salaries) / len(salaries)\n",
    "    for tenure_bucket, salaries in salary_by_tenure_bucket.items()\n",
    "}\n",
    "\n",
    "# 5년 이상 경력을 가진 데이터 과학자들은 경력이 없거나 적은 데이터 과학자들보다 65% 더 번다!\n",
    "print average_salary_by_tenure"
   ]
  },
  {
   "cell_type": "code",
   "execution_count": 34,
   "metadata": {
    "collapsed": true
   },
   "outputs": [],
   "source": [
    "#################\n",
    "#               #\n",
    "# PAID_ACCOUNTS #\n",
    "#               #\n",
    "#################\n",
    "\n",
    "def predict_paid_or_unpaid(years_experience):\n",
    "  if years_experience < 3.0: return \"paid\"\n",
    "  elif years_experience < 8.5: return \"unpaid\"\n",
    "  else: return \"paid\""
   ]
  },
  {
   "cell_type": "code",
   "execution_count": 35,
   "metadata": {
    "collapsed": false
   },
   "outputs": [
    {
     "name": "stdout",
     "output_type": "stream",
     "text": [
      "[('learning', 3), ('java', 3), ('python', 3), ('big', 3), ('data', 3), ('hbase', 2), ('regression', 2), ('cassandra', 2), ('statistics', 2), ('probability', 2), ('hadoop', 2), ('networks', 2), ('machine', 2), ('neural', 2), ('scikit-learn', 2), ('r', 2), ('nosql', 1), ('programming', 1), ('deep', 1), ('haskell', 1), ('languages', 1), ('decision', 1), ('artificial', 1), ('storm', 1), ('mongodb', 1), ('intelligence', 1), ('mathematics', 1), ('numpy', 1), ('pandas', 1), ('postgres', 1), ('libsvm', 1), ('trees', 1), ('scipy', 1), ('spark', 1), ('mapreduce', 1), ('c++', 1), ('theory', 1), ('statsmodels', 1), ('mahout', 1)]\n"
     ]
    }
   ],
   "source": [
    "# 관심 주제\n",
    "# 1. 모든 관심사를 소문자로 변환한다.\n",
    "# 2. 모든 관심사를 단어 기준으로 쪼갠다.\n",
    "# 3. 각 단어의 수를 센다.\n",
    "\n",
    "words_and_counts = Counter(word\n",
    "                           for user, interest in interests\n",
    "                           for word in interest.lower().split())\n",
    "\n",
    "for word, count in words_and_counts.most_common():\n",
    "    if count > 1:\n",
    "        print word, count"
   ]
  },
  {
   "cell_type": "code",
   "execution_count": null,
   "metadata": {
    "collapsed": true
   },
   "outputs": [],
   "source": []
  }
 ],
 "metadata": {
  "kernelspec": {
   "display_name": "Python 2",
   "language": "python",
   "name": "python2"
  },
  "language_info": {
   "codemirror_mode": {
    "name": "ipython",
    "version": 2
   },
   "file_extension": ".py",
   "mimetype": "text/x-python",
   "name": "python",
   "nbconvert_exporter": "python",
   "pygments_lexer": "ipython2",
   "version": "2.7.11"
  }
 },
 "nbformat": 4,
 "nbformat_minor": 0
}
